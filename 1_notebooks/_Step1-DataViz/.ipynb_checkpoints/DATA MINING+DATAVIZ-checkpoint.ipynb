{
 "cells": [
  {
   "cell_type": "markdown",
   "id": "bf694e4c-f642-48f5-8461-ae913cef4695",
   "metadata": {},
   "source": [
    "<div>\n",
    "    <table>\n",
    "    <tr>\n",
    "        <th style=\"text-align: center;\">Project</th>\n",
    "        <td style=\"text-align: center; width: 200px\">CO2 Emissions</td>\n",
    "        <td colspan=\"3\" rowspan=\"3\" style=\"text-align: center; width: 200px\"><h1>First Step - Data Mining and Dataviz</h1></td>\n",
    "    </tr>\n",
    "    <tr>\n",
    "        <th style=\"text-align: center;\">Location</th>\n",
    "        <td style=\"text-align: center; width: 200px\">-</td>\n",
    "    </tr>\n",
    "    <tr>\n",
    "        <th style=\"text-align: center;\">Date</th>\n",
    "        <td style=\"text-align: center; width: 200px\">14/02/2024</td>\n",
    "    </tr>\n",
    "    <tr>\n",
    "        <th style=\"text-align: center;\">&nbsp;</th>\n",
    "        <td style=\"text-align: center; width: 200px\">&nbsp;</td>\n",
    "        <td style=\"text-align: center; width: 200px\">&nbsp;</td>\n",
    "        <td style=\"text-align: center; width: 200px\">&nbsp;</td>\n",
    "        <td style=\"text-align: center; width: 200px\">&nbsp;</td>\n",
    "    </tr>\n",
    "    <tr>\n",
    "        <th style=\"text-align: center;\">COHORD:</th>\n",
    "        <td style=\"text-align: center; width: 200px\">C. ARNAUD</td>\n",
    "        <td style=\"text-align: center; width: 200px\">&nbsp;</td>\n",
    "        <td style=\"text-align: center; width: 200px\">&nbsp;</td>\n",
    "        <td style=\"text-align: center; width: 200px\">&nbsp;</td>\n",
    "    </tr>\n",
    "    <tr>\n",
    "        <th style=\"text-align: center;\">&nbsp;</th>\n",
    "        <td style=\"text-align: center;\">D. GOMES-OCHOA</td>\n",
    "        <td style=\"text-align: center;\">&nbsp;</td>\n",
    "        <td style=\"text-align: center;\">&nbsp;</td>\n",
    "        <td style=\"text-align: center;\">&nbsp;</td>\n",
    "    </tr>\n",
    "    <tr>\n",
    "        <th style=\"text-align: center;\">&nbsp;</th>\n",
    "        <td style=\"text-align: center;\">P. DESHPANDE</td>\n",
    "        <td style=\"text-align: center;\">&nbsp;</td>\n",
    "        <td style=\"text-align: center;\">&nbsp;</td>\n",
    "        <td style=\"text-align: center;\">&nbsp;</td>\n",
    "    </tr>\n",
    "    <tr>\n",
    "        <th style=\"text-align: center;\">&nbsp;</th>\n",
    "        <td style=\"text-align: center;\">R. MARINHO</td>\n",
    "        <td style=\"text-align: center;\">&nbsp;</td>\n",
    "        <td style=\"text-align: center;\">&nbsp;</td>\n",
    "        <td style=\"text-align: center;\">&nbsp;</td>\n",
    "    </tr>\n",
    "    <tr>\n",
    "        <th style=\"text-align: center;\">&nbsp;</th>\n",
    "        <td style=\"text-align: center;\">S. MASOOD</td>\n",
    "        <td style=\"text-align: center;\">&nbsp;</td>\n",
    "        <td style=\"text-align: center;\">&nbsp;</td>\n",
    "        <td style=\"text-align: center;\">&nbsp;</td>\n",
    "    </tr>\n",
    "    </table>\n",
    "</div>"
   ]
  },
  {
   "cell_type": "markdown",
   "id": "28f4723e-3719-4b7f-8494-18856ff48f6d",
   "metadata": {},
   "source": [
    "# Purpose"
   ]
  },
  {
   "cell_type": "markdown",
   "id": "5da847e2-e13a-4900-990c-20e8562fe798",
   "metadata": {},
   "source": [
    "> The purpose of this report is to have a first overview of the data we are going to use for the project.\n",
    ">\n",
    "> The main objectives are:\n",
    ">\n",
    "> - Interrogate the data we are working with and understand what each variable means.\n",
    "> - Homogenise and merge data from different years.\n",
    "> - Perform an initial clean up and check for missing values and duplicate values.\n",
    "> - Identify relationships between target variable and features using DataViz\n",
    "> - Start looking for correlations.\n",
    "> - Identify potential features to be implemented in the feature engineering phase.\n",
    "> \n",
    "> "
   ]
  },
  {
   "cell_type": "code",
   "execution_count": 1,
   "id": "ccd9d257-2ba8-4cab-acab-aa6173c0de19",
   "metadata": {},
   "outputs": [],
   "source": [
    "import sys\n",
    "import os\n",
    "from pathlib import Path\n",
    "sys.path.append(str(Path.cwd().parent.parent))\n",
    "from co2emissions.config import data_dir"
   ]
  },
  {
   "cell_type": "code",
   "execution_count": 4,
   "id": "d8d5feb1-247b-46d8-873c-1e551fdd3885",
   "metadata": {},
   "outputs": [],
   "source": [
    "import pandas as pd"
   ]
  },
  {
   "cell_type": "code",
   "execution_count": 5,
   "id": "f7d81fac-a21b-4ec2-9739-e5a013e3985e",
   "metadata": {
    "scrolled": true
   },
   "outputs": [
    {
     "data": {
      "text/html": [
       "<div>\n",
       "<style scoped>\n",
       "    .dataframe tbody tr th:only-of-type {\n",
       "        vertical-align: middle;\n",
       "    }\n",
       "\n",
       "    .dataframe tbody tr th {\n",
       "        vertical-align: top;\n",
       "    }\n",
       "\n",
       "    .dataframe thead th {\n",
       "        text-align: right;\n",
       "    }\n",
       "</style>\n",
       "<table border=\"1\" class=\"dataframe\">\n",
       "  <thead>\n",
       "    <tr style=\"text-align: right;\">\n",
       "      <th></th>\n",
       "      <th>nom-colonne</th>\n",
       "      <th>typerubric</th>\n",
       "      <th>length</th>\n",
       "      <th>legend</th>\n",
       "      <th>unit</th>\n",
       "    </tr>\n",
       "  </thead>\n",
       "  <tbody>\n",
       "    <tr>\n",
       "      <th>0</th>\n",
       "      <td>lib_mrq_utac</td>\n",
       "      <td>varchar</td>\n",
       "      <td>12</td>\n",
       "      <td>the brand</td>\n",
       "      <td>NaN</td>\n",
       "    </tr>\n",
       "    <tr>\n",
       "      <th>1</th>\n",
       "      <td>lib_mod_doss</td>\n",
       "      <td>varchar</td>\n",
       "      <td>20</td>\n",
       "      <td>The file model</td>\n",
       "      <td>NaN</td>\n",
       "    </tr>\n",
       "    <tr>\n",
       "      <th>2</th>\n",
       "      <td>lib_mod</td>\n",
       "      <td>varchar</td>\n",
       "      <td>20</td>\n",
       "      <td>the business model</td>\n",
       "      <td>NaN</td>\n",
       "    </tr>\n",
       "    <tr>\n",
       "      <th>3</th>\n",
       "      <td>dscom</td>\n",
       "      <td>varchar</td>\n",
       "      <td>91</td>\n",
       "      <td>Commercial designation</td>\n",
       "      <td>NaN</td>\n",
       "    </tr>\n",
       "    <tr>\n",
       "      <th>4</th>\n",
       "      <td>cnit</td>\n",
       "      <td>varchar</td>\n",
       "      <td>15</td>\n",
       "      <td>The National Type Identification Code (CNIT)</td>\n",
       "      <td>NaN</td>\n",
       "    </tr>\n",
       "    <tr>\n",
       "      <th>5</th>\n",
       "      <td>tvv</td>\n",
       "      <td>varchar</td>\n",
       "      <td>36</td>\n",
       "      <td>The Variant-Variant (TVV) or the Mines type</td>\n",
       "      <td>NaN</td>\n",
       "    </tr>\n",
       "    <tr>\n",
       "      <th>6</th>\n",
       "      <td>cod_cbr</td>\n",
       "      <td>varchar</td>\n",
       "      <td>5</td>\n",
       "      <td>The type of fuel</td>\n",
       "      <td>NaN</td>\n",
       "    </tr>\n",
       "    <tr>\n",
       "      <th>7</th>\n",
       "      <td>hybride</td>\n",
       "      <td>varchar</td>\n",
       "      <td>3</td>\n",
       "      <td>Information to identify hybrid vehicles (O/N)</td>\n",
       "      <td>NaN</td>\n",
       "    </tr>\n",
       "    <tr>\n",
       "      <th>8</th>\n",
       "      <td>puiss_admin_98</td>\n",
       "      <td>varnb</td>\n",
       "      <td>2</td>\n",
       "      <td>Administrative power</td>\n",
       "      <td>NaN</td>\n",
       "    </tr>\n",
       "    <tr>\n",
       "      <th>9</th>\n",
       "      <td>puiss_max</td>\n",
       "      <td>varnb</td>\n",
       "      <td>11</td>\n",
       "      <td>Maximum power (in KW)</td>\n",
       "      <td>kW</td>\n",
       "    </tr>\n",
       "    <tr>\n",
       "      <th>10</th>\n",
       "      <td>typ_boite_nb_rapp</td>\n",
       "      <td>varchar</td>\n",
       "      <td>3</td>\n",
       "      <td>the type of gearbox and the number of reports,</td>\n",
       "      <td>NaN</td>\n",
       "    </tr>\n",
       "    <tr>\n",
       "      <th>11</th>\n",
       "      <td>conso_urb</td>\n",
       "      <td>varnb</td>\n",
       "      <td>11</td>\n",
       "      <td>urban fuel consumption (in L/100km),</td>\n",
       "      <td>liter for 100 km</td>\n",
       "    </tr>\n",
       "    <tr>\n",
       "      <th>12</th>\n",
       "      <td>conso_exurb</td>\n",
       "      <td>varnb</td>\n",
       "      <td>11</td>\n",
       "      <td>mixed fuel consumption (in L/100km),</td>\n",
       "      <td>liter for 100 km</td>\n",
       "    </tr>\n",
       "    <tr>\n",
       "      <th>13</th>\n",
       "      <td>conso_mixte</td>\n",
       "      <td>varnb</td>\n",
       "      <td>11</td>\n",
       "      <td>extra urban fuel consumption (in L/100km),</td>\n",
       "      <td>liter for 100 km</td>\n",
       "    </tr>\n",
       "    <tr>\n",
       "      <th>14</th>\n",
       "      <td>co2</td>\n",
       "      <td>varnb</td>\n",
       "      <td>3</td>\n",
       "      <td>CO2 emission (in G/km),</td>\n",
       "      <td>gram per km</td>\n",
       "    </tr>\n",
       "    <tr>\n",
       "      <th>15</th>\n",
       "      <td>co_typ_1</td>\n",
       "      <td>varnb</td>\n",
       "      <td>11</td>\n",
       "      <td>CO Type I test result</td>\n",
       "      <td>gram per km</td>\n",
       "    </tr>\n",
       "    <tr>\n",
       "      <th>16</th>\n",
       "      <td>hc</td>\n",
       "      <td>varnb</td>\n",
       "      <td>11</td>\n",
       "      <td>HC trial results</td>\n",
       "      <td>gram per km</td>\n",
       "    </tr>\n",
       "    <tr>\n",
       "      <th>17</th>\n",
       "      <td>nox</td>\n",
       "      <td>varnb</td>\n",
       "      <td>11</td>\n",
       "      <td>Nox trial results</td>\n",
       "      <td>gram per km</td>\n",
       "    </tr>\n",
       "    <tr>\n",
       "      <th>18</th>\n",
       "      <td>hcnox</td>\n",
       "      <td>varnb</td>\n",
       "      <td>11</td>\n",
       "      <td>HC+Nox trial results</td>\n",
       "      <td>gram per km</td>\n",
       "    </tr>\n",
       "    <tr>\n",
       "      <th>19</th>\n",
       "      <td>ptcl</td>\n",
       "      <td>varnb</td>\n",
       "      <td>5</td>\n",
       "      <td>particle test result</td>\n",
       "      <td>gram per km</td>\n",
       "    </tr>\n",
       "    <tr>\n",
       "      <th>20</th>\n",
       "      <td>masse_ordma_min</td>\n",
       "      <td>varnb</td>\n",
       "      <td>4</td>\n",
       "      <td>The mass in mini walking order</td>\n",
       "      <td>kg</td>\n",
       "    </tr>\n",
       "    <tr>\n",
       "      <th>21</th>\n",
       "      <td>masse_ordma_max</td>\n",
       "      <td>varnb</td>\n",
       "      <td>4</td>\n",
       "      <td>the mass in maximum walking order</td>\n",
       "      <td>kg</td>\n",
       "    </tr>\n",
       "    <tr>\n",
       "      <th>22</th>\n",
       "      <td>champ_v9</td>\n",
       "      <td>varchar</td>\n",
       "      <td>23</td>\n",
       "      <td>Field V9 of the registration certificate which...</td>\n",
       "      <td>NaN</td>\n",
       "    </tr>\n",
       "    <tr>\n",
       "      <th>23</th>\n",
       "      <td>date_maj</td>\n",
       "      <td>varchar</td>\n",
       "      <td>6</td>\n",
       "      <td>The date of the last update.</td>\n",
       "      <td>NaN</td>\n",
       "    </tr>\n",
       "    <tr>\n",
       "      <th>24</th>\n",
       "      <td>Carrosserie</td>\n",
       "      <td>varchar</td>\n",
       "      <td>19</td>\n",
       "      <td>Body</td>\n",
       "      <td>NaN</td>\n",
       "    </tr>\n",
       "    <tr>\n",
       "      <th>25</th>\n",
       "      <td>gamme</td>\n",
       "      <td>varchar</td>\n",
       "      <td>14</td>\n",
       "      <td>range</td>\n",
       "      <td>NaN</td>\n",
       "    </tr>\n",
       "  </tbody>\n",
       "</table>\n",
       "</div>"
      ],
      "text/plain": [
       "          nom-colonne typerubric  length  \\\n",
       "0        lib_mrq_utac    varchar      12   \n",
       "1        lib_mod_doss    varchar      20   \n",
       "2             lib_mod    varchar      20   \n",
       "3               dscom    varchar      91   \n",
       "4                cnit    varchar      15   \n",
       "5                 tvv    varchar      36   \n",
       "6             cod_cbr    varchar       5   \n",
       "7             hybride    varchar       3   \n",
       "8      puiss_admin_98      varnb       2   \n",
       "9           puiss_max      varnb      11   \n",
       "10  typ_boite_nb_rapp    varchar       3   \n",
       "11          conso_urb      varnb      11   \n",
       "12        conso_exurb      varnb      11   \n",
       "13        conso_mixte      varnb      11   \n",
       "14                co2      varnb       3   \n",
       "15           co_typ_1      varnb      11   \n",
       "16                 hc      varnb      11   \n",
       "17                nox      varnb      11   \n",
       "18              hcnox      varnb      11   \n",
       "19               ptcl      varnb       5   \n",
       "20    masse_ordma_min      varnb       4   \n",
       "21    masse_ordma_max      varnb       4   \n",
       "22           champ_v9    varchar      23   \n",
       "23           date_maj    varchar       6   \n",
       "24        Carrosserie    varchar      19   \n",
       "25              gamme    varchar      14   \n",
       "\n",
       "                                               legend              unit  \n",
       "0                                           the brand               NaN  \n",
       "1                                      The file model               NaN  \n",
       "2                                  the business model               NaN  \n",
       "3                              Commercial designation               NaN  \n",
       "4        The National Type Identification Code (CNIT)               NaN  \n",
       "5         The Variant-Variant (TVV) or the Mines type               NaN  \n",
       "6                                    The type of fuel               NaN  \n",
       "7       Information to identify hybrid vehicles (O/N)               NaN  \n",
       "8                                Administrative power               NaN  \n",
       "9                               Maximum power (in KW)                kW  \n",
       "10     the type of gearbox and the number of reports,               NaN  \n",
       "11               urban fuel consumption (in L/100km),  liter for 100 km  \n",
       "12               mixed fuel consumption (in L/100km),  liter for 100 km  \n",
       "13         extra urban fuel consumption (in L/100km),  liter for 100 km  \n",
       "14                            CO2 emission (in G/km),       gram per km  \n",
       "15                              CO Type I test result       gram per km  \n",
       "16                                   HC trial results       gram per km  \n",
       "17                                  Nox trial results       gram per km  \n",
       "18                               HC+Nox trial results       gram per km  \n",
       "19                               particle test result       gram per km  \n",
       "20                     The mass in mini walking order                kg  \n",
       "21                  the mass in maximum walking order                kg  \n",
       "22  Field V9 of the registration certificate which...               NaN  \n",
       "23                       The date of the last update.               NaN  \n",
       "24                                               Body               NaN  \n",
       "25                                              range               NaN  "
      ]
     },
     "execution_count": 5,
     "metadata": {},
     "output_type": "execute_result"
    }
   ],
   "source": [
    "df_info_path = os.path.join(data_dir, '0-raw', 'FRANCE', 'carlab-annuaire-variable.xlsx')\n",
    "df_info = pd.read_excel(df_info_path, sheet_name='EN')\n",
    "df_info"
   ]
  },
  {
   "cell_type": "markdown",
   "id": "b78f12d3-5cad-495a-8c4e-83396b487cb4",
   "metadata": {},
   "source": [
    "# Imports"
   ]
  },
  {
   "cell_type": "code",
   "execution_count": null,
   "id": "4219359e-be80-458d-9782-80f58dc61d58",
   "metadata": {},
   "outputs": [],
   "source": [
    "import pandas as pd\n",
    "import numpy as np\n",
    "import matplotlib.pyplot as plt\n",
    "import seaborn as sns\n",
    "\n",
    "import warnings\n",
    "warnings.filterwarnings('ignore')\n",
    "import plotly.express as px\n",
    "\n",
    "plt.rcParams['figure.dpi'] = 120"
   ]
  },
  {
   "cell_type": "markdown",
   "id": "e72443a4-006f-476b-b660-245555f0a6c5",
   "metadata": {},
   "source": [
    "# Variable names"
   ]
  },
  {
   "cell_type": "code",
   "execution_count": null,
   "id": "7e11d542-43be-4e6b-9d51-c32d33cf18ae",
   "metadata": {},
   "outputs": [],
   "source": [
    "df_info = pd.read_excel('carlab-annuaire-variable.xlsx', sheet_name='EN')\n",
    "pd.set_option('max_colwidth', 120)\n",
    "df_info.replace(np.nan, '-')"
   ]
  },
  {
   "cell_type": "markdown",
   "id": "da3dc916-3594-4e4c-84d1-f84e72b9646e",
   "metadata": {},
   "source": [
    "# Data Overview"
   ]
  },
  {
   "cell_type": "code",
   "execution_count": null,
   "id": "7ea2e1a0-736b-4652-8f33-3a4c89a615a1",
   "metadata": {},
   "outputs": [],
   "source": [
    "df_2015 = pd.read_csv('fic_etiq_edition_40-mars-2015.csv', sep=';', encoding='mbcs')\n",
    "df_2014 = pd.read_csv('mars-2014-complete.csv', sep=';', encoding='mbcs')\n",
    "df_2013 = pd.read_csv('cl_JUIN_2013-complet3.csv', sep=';', encoding='mbcs')\n",
    "df_2012 = pd.read_csv('BASE CL MAJ JUIN 2012.csv', sep=';', encoding='mbcs')\n",
    "print(\"Data 2015\")\n",
    "display(df_2015.head(2))\n",
    "print(\"Data 2014\")\n",
    "display(df_2014.head(2))\n",
    "print(\"Data 2013\")\n",
    "display(df_2013.head(2))\n",
    "print(\"Data 2012\")\n",
    "display(df_2012.head(2))"
   ]
  },
  {
   "cell_type": "markdown",
   "id": "4b159276-edcb-4195-9dcb-12d4c0fe701e",
   "metadata": {},
   "source": [
    "## Aligninng column Names"
   ]
  },
  {
   "cell_type": "markdown",
   "id": "4398b27e-9591-4e89-b499-48ac07c8febf",
   "metadata": {},
   "source": [
    "> 2015 "
   ]
  },
  {
   "cell_type": "code",
   "execution_count": null,
   "id": "20f8368b-c0f4-4029-a234-82116267f2dd",
   "metadata": {},
   "outputs": [],
   "source": [
    "df_2015.rename(columns={\n",
    "    'lib_mrq_doss':     'lib_mrq_utac',\n",
    "    'mod_utac':         'lib_mod',\n",
    "    'energ':            'cod_cbr',\n",
    "    'puiss_admin':      'puiss_admin_98',\n",
    "    'conso_urb_93':     'conso_urb',\n",
    "    'co2_mixte':        'co2'\n",
    "}, inplace=True)\n",
    "df_2015.columns"
   ]
  },
  {
   "cell_type": "markdown",
   "id": "785ad244-0809-43d7-b9e5-5548081d6366",
   "metadata": {},
   "source": [
    "> 2014 "
   ]
  },
  {
   "cell_type": "code",
   "execution_count": null,
   "id": "ab11b520-eeec-428f-9a74-d9934a037ca9",
   "metadata": {},
   "outputs": [],
   "source": [
    "df_2014.rename(columns={\n",
    "    'lib_mrq':          'lib_mrq_utac'\n",
    "}, inplace=True)\n",
    "df_2014.columns"
   ]
  },
  {
   "cell_type": "markdown",
   "id": "efe02b99-9056-451e-987c-cf22fa1b5571",
   "metadata": {},
   "source": [
    "> 2013 "
   ]
  },
  {
   "cell_type": "code",
   "execution_count": null,
   "id": "642e47af-4dfc-442b-9fc2-636487c0a72d",
   "metadata": {},
   "outputs": [],
   "source": [
    "df_2013.rename(columns={\n",
    "    'Marque' :                               'lib_mrq_utac',\n",
    "    'Modèle dossier' :                       'lib_mod_doss',\n",
    "    'Modèle UTAC' :                          'lib_mod',\n",
    "    'Désignation commerciale' :              'dscom',\n",
    "    'CNIT' :                                 'cnit',\n",
    "    'Type Variante Version (TVV)' :          'tvv',\n",
    "    'Carburant' :                            'cod_cbr',\n",
    "    'Hybride' :                              'hybride',\n",
    "    'Puissance administrative' :             'puiss_admin_98',\n",
    "    'Puissance maximale (kW)' :              'puiss_max',\n",
    "    'Boîte de vitesse' :                     'typ_boite_nb_rapp',\n",
    "    'Consommation urbaine (l/100km)' :       'conso_urb',\n",
    "    'Consommation extra-urbaine (l/100km)' : 'conso_exurb',\n",
    "    'Consommation mixte (l/100km)' :         'conso_mixte',\n",
    "    'CO2 (g/km)' :                           'co2',\n",
    "    'CO type I (g/km)' :                     'co_typ_1',\n",
    "    'HC (g/km)' :                            'hc',\n",
    "    'NOX (g/km)' :                           'nox',\n",
    "    'HC+NOX (g/km)' :                        'hcnox',\n",
    "    'Particules (g/km)' :                    'ptcl',\n",
    "    'masse vide euro min (kg)' :             'masse_ordma_min',\n",
    "    'masse vide euro max (kg)' :             'masse_ordma_max',\n",
    "    'Champ V9' :                             'champ_v9',\n",
    "    'Date de mise à jour' :                  'date_maj'\n",
    "}, inplace=True)\n",
    "df_2013.columns"
   ]
  },
  {
   "cell_type": "markdown",
   "id": "8b10e452-b552-4693-8c67-491daf19eac2",
   "metadata": {},
   "source": [
    "> 2012"
   ]
  },
  {
   "cell_type": "code",
   "execution_count": null,
   "id": "146d9f75-eeb8-4415-bfce-7a2f1a81e996",
   "metadata": {},
   "outputs": [],
   "source": [
    "df_2012.rename(columns={\n",
    "    'lib_mrq':         'lib_mrq_utac',\n",
    "    'typ_cbr':         'cod_cbr'\n",
    "}, inplace=True)\n",
    "df_2012.columns"
   ]
  },
  {
   "cell_type": "markdown",
   "id": "71971764-42e4-4ba1-ae32-6db6ba180db3",
   "metadata": {},
   "source": [
    "> Add year for reference"
   ]
  },
  {
   "cell_type": "code",
   "execution_count": null,
   "id": "13221952-69a8-450d-95c8-2bc4206ad60d",
   "metadata": {},
   "outputs": [],
   "source": [
    "df_2012['year'] = 2012\n",
    "df_2013['year'] = 2013\n",
    "df_2014['year'] = 2014\n",
    "df_2015['year'] = 2015"
   ]
  },
  {
   "cell_type": "markdown",
   "id": "325ffe81-0f1f-4ef0-b454-76386ff9bc87",
   "metadata": {},
   "source": [
    "## Concatenation "
   ]
  },
  {
   "cell_type": "code",
   "execution_count": null,
   "id": "ddce2c7a-2db7-4854-af0a-41abdc83c8eb",
   "metadata": {},
   "outputs": [],
   "source": [
    "datasets = [df_2015, df_2014, df_2013, df_2012]\n",
    "df = pd.concat(datasets)"
   ]
  },
  {
   "cell_type": "code",
   "execution_count": null,
   "id": "19c7d437-03ab-458a-9092-ce12c6df2d51",
   "metadata": {},
   "outputs": [],
   "source": [
    "df.head()"
   ]
  },
  {
   "cell_type": "code",
   "execution_count": null,
   "id": "f0ac77a0-b7bc-4384-9c90-1eb8ed84c6f2",
   "metadata": {},
   "outputs": [],
   "source": [
    "for index, column in enumerate(df.columns):\n",
    "    print(index, column)"
   ]
  },
  {
   "cell_type": "code",
   "execution_count": null,
   "id": "0f5fc4d8-dc1e-47a6-9868-4e91b8d57421",
   "metadata": {},
   "outputs": [],
   "source": [
    "df.info()"
   ]
  },
  {
   "cell_type": "markdown",
   "id": "86931107-2914-4493-b429-7d156f114958",
   "metadata": {},
   "source": [
    "## Percentage of missing values"
   ]
  },
  {
   "cell_type": "code",
   "execution_count": null,
   "id": "8d7c0d8f-00d6-46c5-8dfe-1ac5fdcd7d3d",
   "metadata": {},
   "outputs": [],
   "source": [
    "df.isna().sum() / len(df) * 100"
   ]
  },
  {
   "attachments": {},
   "cell_type": "markdown",
   "id": "766598b1-1887-4be0-a678-77a0dcecb340",
   "metadata": {},
   "source": [
    "## Preliminary Cleaning\n",
    "\n",
    "> We will drop the columns that are not int he initial drescription (which also happen to be the one that are empty or with a lot of missing values)\n",
    "> These columns are the following:\n",
    "> - `mrq_utac`, `puiss_heure`, `Unnamed: 26`, `Unnamed: 27`, `Unnamed: 28`, `Unnamed: 29`\n",
    ">\n",
    "> We will now only have the columns presented in the **Variable names** section"
   ]
  },
  {
   "cell_type": "code",
   "execution_count": null,
   "id": "eb8bd7fb-9b84-4cc6-b1c7-7e5d07f64b43",
   "metadata": {},
   "outputs": [],
   "source": [
    "df.drop(\n",
    "    columns=['mrq_utac', \n",
    "             'puiss_heure', \n",
    "             'Unnamed: 26', \n",
    "             'Unnamed: 27', \n",
    "             'Unnamed: 28', \n",
    "             'Unnamed: 29'\n",
    "            ],\n",
    "    inplace=True\n",
    ")\n",
    "df.info()"
   ]
  },
  {
   "cell_type": "markdown",
   "id": "c05ce5d4-f467-454e-8033-c01eee4a7be6",
   "metadata": {},
   "source": [
    "## Duplicated Values"
   ]
  },
  {
   "cell_type": "code",
   "execution_count": null,
   "id": "4fa5c688-b75f-44a3-ae69-cc95b6d1485d",
   "metadata": {},
   "outputs": [],
   "source": [
    "df.duplicated().sum()"
   ]
  },
  {
   "cell_type": "code",
   "execution_count": null,
   "id": "a87abc30-540f-44a2-a9de-b5157447bf4f",
   "metadata": {},
   "outputs": [],
   "source": [
    "df = df.drop_duplicates(keep='last')"
   ]
  },
  {
   "cell_type": "code",
   "execution_count": null,
   "id": "5850ab5c-ec9f-46a3-9fc1-c480cb846e2a",
   "metadata": {},
   "outputs": [],
   "source": [
    "df.duplicated().sum()"
   ]
  },
  {
   "cell_type": "markdown",
   "id": "c75eb9c9-d054-4fd1-b0dd-8a03de17dc36",
   "metadata": {},
   "source": [
    "# Categorical Variables"
   ]
  },
  {
   "cell_type": "markdown",
   "id": "afde2717-c3f5-4750-9905-59896cee4ad5",
   "metadata": {},
   "source": [
    "> A lot of the qualitative variables have many different values because of a trilling space. These spaces have been removed for this preliminary analysis."
   ]
  },
  {
   "cell_type": "markdown",
   "id": "22d1012b-ff69-4b9d-861c-41f774c8bbf3",
   "metadata": {},
   "source": [
    "## Helper functions"
   ]
  },
  {
   "cell_type": "markdown",
   "id": "e97566f5-1b19-4409-8489-fbfdd9da3eae",
   "metadata": {},
   "source": [
    "> Lets create a function to print better the unique values from columns\n",
    "> so we can use it in the report."
   ]
  },
  {
   "cell_type": "code",
   "execution_count": null,
   "id": "4073222a-c916-4f7a-bff6-c22ccaf9e63a",
   "metadata": {},
   "outputs": [],
   "source": [
    "def list_to_cols(l, num_cols):\n",
    "    num_lines = len(l) // num_cols + 1 # Number of lines\n",
    "    max_len = len(max(l, key=len)) # Maximum string len\n",
    "    for line in range(num_lines):\n",
    "        for col in range(num_cols):\n",
    "            l_position = line * num_cols + col\n",
    "            if l_position < len(l):\n",
    "                if col < num_cols-1:\n",
    "                    print(f\"{l_position:03}: {l[l_position]:<30}\", end='')\n",
    "                else:\n",
    "                    print(f\"{l_position:03}: {l[l_position]:<30}\", end='\\n')"
   ]
  },
  {
   "cell_type": "markdown",
   "id": "bbe57295-6641-46d9-a242-94b61253d64a",
   "metadata": {},
   "source": [
    "## Variables"
   ]
  },
  {
   "cell_type": "markdown",
   "id": "29c16639-328e-4a45-aee1-20f08611f686",
   "metadata": {},
   "source": [
    "> ### `lib_mrq_utac`"
   ]
  },
  {
   "cell_type": "code",
   "execution_count": null,
   "id": "2f0a05ce-124b-4e5d-9ebb-564ea6ca49dd",
   "metadata": {},
   "outputs": [],
   "source": [
    "# Strip extra white space\n",
    "df.lib_mrq_utac.loc[:] = df.lib_mrq_utac.apply(lambda x: x.strip())\n",
    "list = df.lib_mrq_utac.unique()\n",
    "list"
   ]
  },
  {
   "cell_type": "code",
   "execution_count": null,
   "id": "709d6b63-dd4c-4c09-8877-d99a70b1fe0e",
   "metadata": {
    "jupyter": {
     "source_hidden": true
    },
    "scrolled": true
   },
   "outputs": [],
   "source": [
    "for index, value in enumerate(list):\n",
    "    print(f\"{index:<3} {value}\")"
   ]
  },
  {
   "cell_type": "code",
   "execution_count": null,
   "id": "95a8668d-dc59-46b4-b131-aecd795f8311",
   "metadata": {},
   "outputs": [],
   "source": [
    "print('LIST OF UNIQUE VALUES\\n--------')\n",
    "list_to_cols(sorted(list), 5)"
   ]
  },
  {
   "cell_type": "code",
   "execution_count": null,
   "id": "c012a1a8-f177-44b0-aed3-9161b4377524",
   "metadata": {},
   "outputs": [],
   "source": [
    "df.lib_mrq_utac = df.lib_mrq_utac.replace(\n",
    "    to_replace=[\"ALFA-ROMEO\", \"BMW I\", \"FORD-CNG-TECHNIK\", \"JAGUAR LAND ROVER LIMITED\", \"MERCEDES AMG\",             \n",
    "                \"MERCEDES BENZ\", \"MERCEDES-BENZ\", \"RENAULT TECH\", \"ROLLS-ROYCE\"],\n",
    "    value=[\"ALFA ROMEO\", \"BMW\", \"FORD\", \"JAGUAR\", \"MERCEDES\", \"MERCEDES\", \"MERCEDES\", \"RENAULT\", \"ROLLS ROYCE\"]\n",
    ")"
   ]
  },
  {
   "cell_type": "code",
   "execution_count": null,
   "id": "a5dbce24-ca8f-4b3e-a5b6-992458fdd3f7",
   "metadata": {},
   "outputs": [],
   "source": [
    "list2 = df.lib_mrq_utac.unique()\n",
    "print('LIST OF UNIQUE VALUES\\n--------')\n",
    "list_to_cols(sorted(list2), 5)"
   ]
  },
  {
   "cell_type": "code",
   "execution_count": null,
   "id": "5a8083b6-3f99-49b3-a079-9b20955bdab3",
   "metadata": {
    "scrolled": true
   },
   "outputs": [],
   "source": [
    "data_frame = df.groupby(['lib_mrq_utac'])['co2'].mean().sort_values(ascending=True).round(1)\n",
    "data_frame = data_frame.reset_index()\n",
    "data_frame"
   ]
  },
  {
   "cell_type": "code",
   "execution_count": null,
   "id": "207b6242-a307-4d5b-bb01-a0847be4824d",
   "metadata": {},
   "outputs": [],
   "source": [
    "fig = px.bar(\n",
    "    data_frame=data_frame,\n",
    "    x='lib_mrq_utac',\n",
    "    y='co2',\n",
    "    color='co2',\n",
    "    title='AVERAGE OF CO2 EMISSION BY BRAND',\n",
    "    # log_x=True,\n",
    "    text_auto=True\n",
    ")\n",
    "fig.update_coloraxes(showscale=False)\n",
    "fig.update_layout(\n",
    "    height=600,\n",
    "    legend=dict(title='CO2 (G/KM)'),\n",
    "    xaxis_title='BRAND',\n",
    "    yaxis_title='CO2 EMISSION (G/kM)'\n",
    ")\n",
    "\n",
    "fig.show()\n",
    "fig.write_image('imgs/0-AVERAGE OF CO2 EMISSION BY BRAND.svg', width=1400, height=600)"
   ]
  },
  {
   "cell_type": "code",
   "execution_count": null,
   "id": "a5f42e83-e4d1-4e4a-83fb-4e52fcf80b2c",
   "metadata": {
    "jupyter": {
     "source_hidden": true
    },
    "scrolled": true
   },
   "outputs": [],
   "source": [
    "data_frame = df['lib_mrq_utac'].sort_values()\n",
    "fig = px.histogram(\n",
    "    y=data_frame,\n",
    "    color=data_frame,\n",
    "    title='DISTRIBUTION OF BRANDS',\n",
    "    log_x=True,\n",
    "    text_auto=True\n",
    ")\n",
    "fig.update_layout(\n",
    "    height=1500,\n",
    "    # legend=dict(title='BRANDS'),\n",
    "    xaxis_title='COUNT',\n",
    "    yaxis_title='',\n",
    "    showlegend=False\n",
    ")\n",
    "fig.show()\n",
    "fig.write_image('imgs/1-DISTRIBUTION OF BRANDS.svg', width=1800, height=1500)"
   ]
  },
  {
   "cell_type": "markdown",
   "id": "38cd8991-84e7-44a4-8349-c0a399224a2c",
   "metadata": {},
   "source": [
    "> ### `lib_mod_doss`"
   ]
  },
  {
   "cell_type": "code",
   "execution_count": null,
   "id": "f706756c-964a-41ad-a219-53143b1f6f13",
   "metadata": {},
   "outputs": [],
   "source": [
    "# Strip extra white space\n",
    "df.lib_mod_doss.loc[:] = df.lib_mod_doss.apply(lambda x: x.strip())\n",
    "list = df.lib_mod_doss.unique()"
   ]
  },
  {
   "cell_type": "code",
   "execution_count": null,
   "id": "b5ec51a3-76e8-4838-9ddf-e86c45efe605",
   "metadata": {
    "scrolled": true
   },
   "outputs": [],
   "source": [
    "print('LIST OF UNIQUE VALUES\\n--------')\n",
    "list_to_cols(sorted(list), 6)"
   ]
  },
  {
   "cell_type": "markdown",
   "id": "b064219d-e550-45e2-a1f5-0fa39fd80b38",
   "metadata": {},
   "source": [
    "> ### `lib_mod`"
   ]
  },
  {
   "cell_type": "code",
   "execution_count": null,
   "id": "d48ecabf-3804-4857-bacf-57ee1d0b6ef0",
   "metadata": {},
   "outputs": [],
   "source": [
    "# Strip extra white space\n",
    "df.lib_mod.loc[:] = df.lib_mod.apply(lambda x: x.strip())\n",
    "list = df.lib_mod.unique()"
   ]
  },
  {
   "cell_type": "code",
   "execution_count": null,
   "id": "a114f35f-09d1-4ea9-aa0b-795179b5deac",
   "metadata": {
    "scrolled": true
   },
   "outputs": [],
   "source": [
    "print('LIST OF UNIQUE VALUES\\n--------')\n",
    "list_to_cols(sorted(list), 6)"
   ]
  },
  {
   "cell_type": "markdown",
   "id": "50d30c04-c261-4983-9ae5-8395ec6ec2c3",
   "metadata": {},
   "source": [
    "> ### `dscom`"
   ]
  },
  {
   "cell_type": "code",
   "execution_count": null,
   "id": "a56517af-fce8-4ee8-a0e5-19e5f24c9d16",
   "metadata": {},
   "outputs": [],
   "source": [
    "# Strip extra white space\n",
    "df.dscom"
   ]
  },
  {
   "cell_type": "markdown",
   "id": "2354aff6-c51f-42c1-ada5-e3072bf6ec8d",
   "metadata": {},
   "source": [
    "<div class=\"alert alert-block alert-success\">\n",
    "    <b>Feature engineering:</b> \n",
    "    <br>Extract engine power and cylinder volume from dscom.\n",
    "</div>"
   ]
  },
  {
   "cell_type": "markdown",
   "id": "b53808c3-4669-468e-ba44-5c5286054bdf",
   "metadata": {},
   "source": [
    "> ### `cnit`"
   ]
  },
  {
   "cell_type": "code",
   "execution_count": null,
   "id": "a90fab20-893e-4400-bdf8-6a0ebb353ec0",
   "metadata": {
    "scrolled": true
   },
   "outputs": [],
   "source": [
    "df.cnit"
   ]
  },
  {
   "cell_type": "markdown",
   "id": "dc0f68bb-cf4a-4b67-83be-fe25b5d627a7",
   "metadata": {},
   "source": [
    "> We do not find, in this first analysis an interest on these values, it will therefore be dropped."
   ]
  },
  {
   "cell_type": "code",
   "execution_count": null,
   "id": "9f255431-5f12-4d61-8073-9bbecd0456d2",
   "metadata": {},
   "outputs": [],
   "source": [
    "df = df.drop('cnit', axis=1)"
   ]
  },
  {
   "cell_type": "markdown",
   "id": "df20b317-5f5c-40cd-9148-ec3b9638b91e",
   "metadata": {},
   "source": [
    "> ### `tvv`"
   ]
  },
  {
   "cell_type": "code",
   "execution_count": null,
   "id": "549b83d9-48f2-4698-a544-2362fdd36bdc",
   "metadata": {},
   "outputs": [],
   "source": [
    "df.tvv"
   ]
  },
  {
   "cell_type": "markdown",
   "id": "10cdf371-328d-4de2-a948-fc95ba94a6fe",
   "metadata": {},
   "source": [
    "<div class=\"alert alert-block alert-success\">\n",
    "    <b>Feature engineering:</b> \n",
    "    <br>The ‘tvv’, as an unique identification number can be used to complete the French government data with new variables from EEA dataset. Ex.: wheelbase, track width..\n",
    "</div>"
   ]
  },
  {
   "cell_type": "markdown",
   "id": "ec85daa8-6d0d-4cc1-a508-cf0a538f0a4f",
   "metadata": {},
   "source": [
    "> ### `cod_cbr`"
   ]
  },
  {
   "cell_type": "code",
   "execution_count": null,
   "id": "736d8828-cec1-4b1d-a77f-b9d7c9b98b40",
   "metadata": {},
   "outputs": [],
   "source": [
    "# Strip extra white space\n",
    "df.cod_cbr.loc[:] = df.cod_cbr.apply(lambda x: x.strip())\n",
    "list = df.cod_cbr.unique()"
   ]
  },
  {
   "cell_type": "code",
   "execution_count": null,
   "id": "65c4ccaa-f8f9-4fcd-8992-4733c5fada89",
   "metadata": {},
   "outputs": [],
   "source": [
    "print('LIST OF UNIQUE VALUES\\n--------')\n",
    "list_to_cols(sorted(list), 6)"
   ]
  },
  {
   "cell_type": "markdown",
   "id": "111e005d-6f45-440e-931c-ddc8587bdef8",
   "metadata": {},
   "source": [
    "> The following values are merged before this analysis: `ES/GN` → `GN/ES` and `GP/ES` → `ES/GP`."
   ]
  },
  {
   "cell_type": "code",
   "execution_count": null,
   "id": "fea199b7-f32c-47b8-b0ef-3d4b30426129",
   "metadata": {},
   "outputs": [],
   "source": [
    "df.cod_cbr = df.cod_cbr.replace(\n",
    "    to_replace=[\"ES/GN\", \"GP/ES\", ],\n",
    "    value=     [\"GN/ES\", \"ES/GP\"]\n",
    ")"
   ]
  },
  {
   "cell_type": "markdown",
   "id": "0b4e7fcf-8fc9-4905-8dd1-f8e35339e822",
   "metadata": {},
   "source": [
    "> We expect that the Type of fuel will have a big impact in the CO2 emissions.\n",
    ">\n",
    "> Lets try to visualize that in a plot:"
   ]
  },
  {
   "cell_type": "code",
   "execution_count": null,
   "id": "8897f0b6-ee78-4111-90de-825331afb3b8",
   "metadata": {},
   "outputs": [],
   "source": [
    "data_frame = df.groupby('cod_cbr')['co2'].mean().sort_values(ascending=True).round(1)\n",
    "fig = px.bar(\n",
    "    x=data_frame.index,\n",
    "    y=data_frame,\n",
    "    color=data_frame.index,\n",
    "    title='AVERAGE OF CO2 EMISSION BY TYPE OF FUEL',\n",
    "    # log_x=True,\n",
    "    text_auto=True\n",
    ")\n",
    "fig.update_layout(\n",
    "    height=600,\n",
    "    # legend=dict(title='BRANDS'),\n",
    "    xaxis_title='TYPE Of FUEL',\n",
    "    yaxis_title='AVG CO2 EMISSIONS (G/KM)',\n",
    "    showlegend=False\n",
    ")\n",
    "\n",
    "fig.show()\n",
    "fig.write_image('imgs/2-AVERAGE OF CO2 EMISSION BY TYPE OF FUEL.svg', width=1200, height=400)"
   ]
  },
  {
   "cell_type": "markdown",
   "id": "7e5bbf53-c019-4a1b-9db3-5473282bd23e",
   "metadata": {},
   "source": [
    "> We confirm that the type of fuel has a big impact in co2 emissions.\n",
    ">\n",
    "> We can also see that EL, that stands for electrical has zero emissions."
   ]
  },
  {
   "cell_type": "code",
   "execution_count": null,
   "id": "4124ecf4-77a9-4a04-82b7-ab6a4394c070",
   "metadata": {
    "scrolled": true
   },
   "outputs": [],
   "source": [
    "df.cod_cbr[df.hybride=='oui'].value_counts()"
   ]
  },
  {
   "cell_type": "markdown",
   "id": "5b790df9-47dd-4a22-81d6-998ce5b12fcc",
   "metadata": {},
   "source": [
    "<div class=\"alert alert-block alert-warning\">\n",
    "    <b>Action:</b> \n",
    "    <br>Identify the number of car brands using each fuel type and compare the proportions to get a bigger picture for why CO2 emissions differ between each brand. \n",
    "    <br>This analysis can further inform the findings from Graph #1..\n",
    "</div>"
   ]
  },
  {
   "cell_type": "markdown",
   "id": "e9fae871-a895-44da-b7e6-5d7cacbd4e5b",
   "metadata": {},
   "source": [
    "<div class=\"alert alert-block alert-warning\">\n",
    "    <b>Action:</b> \n",
    "    <br>Replace fuel type by the correct values. To do this, it’s possible to check the fuel type of a car of another year of the French Government dataset by using the variable ‘tvv’ (if the ‘tvv’ variable is similar, it means that this is exactly the same car with the same characteristics).\n",
    "</div>"
   ]
  },
  {
   "cell_type": "markdown",
   "id": "9f34c96a-a17c-4131-905f-a9c8cef207a9",
   "metadata": {},
   "source": [
    "> ### `hybride`"
   ]
  },
  {
   "cell_type": "code",
   "execution_count": null,
   "id": "9674322e-5d81-4d7c-aab6-ba4f01163457",
   "metadata": {},
   "outputs": [],
   "source": [
    "# Strip extra white space\n",
    "df.hybride.loc[:] = df.hybride.apply(lambda x: x.strip())\n",
    "list = df.hybride.unique()"
   ]
  },
  {
   "cell_type": "code",
   "execution_count": null,
   "id": "d1c7f1c3-835f-4d3b-ac99-7558ef8f294e",
   "metadata": {},
   "outputs": [],
   "source": [
    "print('LIST OF UNIQUE VALUES\\n--------')\n",
    "list_to_cols(sorted(list), 1)"
   ]
  },
  {
   "cell_type": "code",
   "execution_count": null,
   "id": "a9e2104e-4d7f-4227-a84a-82a4e0ca8409",
   "metadata": {},
   "outputs": [],
   "source": [
    "data_frame = df.groupby(['cod_cbr','hybride'])['co2'].mean().sort_values(ascending=True).round(1)\n",
    "data_frame = data_frame.reset_index()"
   ]
  },
  {
   "cell_type": "markdown",
   "id": "72f15e59-ed9a-4861-aee3-554474477f70",
   "metadata": {},
   "source": [
    "> We expect that a hybrid car will produce less CO2 than a non-hybrid."
   ]
  },
  {
   "cell_type": "code",
   "execution_count": null,
   "id": "f2fec76a-8336-4a82-8599-26ed1f1ec0ff",
   "metadata": {},
   "outputs": [],
   "source": [
    "fig = px.bar(\n",
    "    data_frame=data_frame,\n",
    "    x='cod_cbr',\n",
    "    y='co2',\n",
    "    color='hybride',\n",
    "    title='AVERAGE OF CO2 EMISSION BY TYPE OF FUEL AND HYBRID',\n",
    "    text_auto=True,\n",
    "    barmode='group'\n",
    ")\n",
    "fig.update_layout(\n",
    "    height=600,\n",
    "    legend=dict(title='HYBRID'),\n",
    "    xaxis_title='TYPE OF FUEL',\n",
    "    yaxis_title='AVG CO2 EMISSIONS (G/KM)'\n",
    ")\n",
    "\n",
    "fig.show()\n",
    "fig.write_image('imgs/3-AVERAGE OF CO2 EMISSION BY TYPE OF FUEL AND HYBRID.svg', width=1200, height=500)"
   ]
  },
  {
   "cell_type": "markdown",
   "id": "1907d973-9a56-4a3f-a5a4-8b7b6bfa0dd1",
   "metadata": {},
   "source": [
    "> We can see, as expexted that a hybrid car has an average lower consumption, compared to a non-hybrid."
   ]
  },
  {
   "cell_type": "markdown",
   "id": "85eab686-d39b-45ea-8cf8-6c352610fe06",
   "metadata": {},
   "source": [
    "> ### `typ_boite_nb_rapp`"
   ]
  },
  {
   "cell_type": "code",
   "execution_count": null,
   "id": "a0e4f5ca-55b2-42d3-8211-c88338e2848f",
   "metadata": {},
   "outputs": [],
   "source": [
    "# Strip extra white space\n",
    "df.typ_boite_nb_rapp.loc[:] = df.typ_boite_nb_rapp.apply(lambda x: x.strip())\n",
    "list = df.typ_boite_nb_rapp.unique()"
   ]
  },
  {
   "cell_type": "code",
   "execution_count": null,
   "id": "1447f16a-42c6-43a2-a1b6-54787e114901",
   "metadata": {},
   "outputs": [],
   "source": [
    "print('LIST OF UNIQUE VALUES\\n--------')\n",
    "list_to_cols(sorted(list), 7)"
   ]
  },
  {
   "cell_type": "code",
   "execution_count": null,
   "id": "45b090fe-5587-494c-b7a4-9434a1841f3b",
   "metadata": {},
   "outputs": [],
   "source": [
    "data_frame = df.groupby(['typ_boite_nb_rapp','hybride'])['co2'].mean().sort_values(ascending=True).round(1)\n",
    "data_frame = data_frame.reset_index()"
   ]
  },
  {
   "cell_type": "markdown",
   "id": "0c4edff4-3b52-478c-824c-2d7d81b5ad24",
   "metadata": {},
   "source": [
    "> We expect that a hybrid car will produce less CO2 than a non-hybrid."
   ]
  },
  {
   "cell_type": "code",
   "execution_count": null,
   "id": "5c86a777-fa57-4bea-a5fe-7666ad1ec392",
   "metadata": {},
   "outputs": [],
   "source": [
    "fig = px.bar(\n",
    "    data_frame=data_frame,\n",
    "    x='typ_boite_nb_rapp',\n",
    "    y='co2',\n",
    "    color='hybride',\n",
    "    title='AVERAGE OF CO2 EMISSION BY TYPE OF GEARBOX',\n",
    "    text_auto=True,\n",
    "    barmode='group'\n",
    ")\n",
    "fig.update_layout(\n",
    "    height=600,\n",
    "    legend=dict(title='HYBRID'),\n",
    "    xaxis_title='TYPE OF GEARBOX',\n",
    "    yaxis_title='AVG CO2 EMISSIONS (G/KM)'\n",
    ")\n",
    "\n",
    "fig.show()\n",
    "fig.write_image('imgs/4-AVERAGE OF CO2 EMISSION BY TYPE OF GEARBOX.svg', width=1200, height=500)"
   ]
  },
  {
   "cell_type": "markdown",
   "id": "d9dd50f5-aab3-46cc-b7d4-ec55a44fc84c",
   "metadata": {},
   "source": [
    "<div class=\"alert alert-block alert-success\">\n",
    "    <b>Feature engineering:</b> \n",
    "    <br>Separate First letter and number in different features and check the correlation of each category with co2 emissions.\n",
    "</div>"
   ]
  },
  {
   "cell_type": "markdown",
   "id": "28d0e499-1694-43f5-a2ab-5c2b6b096b2a",
   "metadata": {},
   "source": [
    "> ### `champ_v9`"
   ]
  },
  {
   "cell_type": "code",
   "execution_count": null,
   "id": "773dbd58-8018-46a4-ad71-3e3163e0c6c4",
   "metadata": {},
   "outputs": [],
   "source": [
    "df.champ_v9"
   ]
  },
  {
   "cell_type": "markdown",
   "id": "63bb6466-b0d6-4813-9695-6afe23242166",
   "metadata": {},
   "source": [
    "<div class=\"alert alert-block alert-success\">\n",
    "    <b>Feature engineering:</b> \n",
    "    <br>Investigate if certified or no certified car has an impact on the CO2 emissions. A binary variable can be created.\n",
    "</div>"
   ]
  },
  {
   "cell_type": "markdown",
   "id": "9c673ed9-23b2-4abd-9a3a-24648445ee46",
   "metadata": {},
   "source": [
    "> ### `date_maj`"
   ]
  },
  {
   "cell_type": "markdown",
   "id": "9abe772c-784a-4384-b728-34118b919bca",
   "metadata": {},
   "source": [
    "> We expect the update date not to have a correlation with the CO2 emissions, but lets take a look at it, as it contains the year\n",
    "> that could be interesting to extract later to see the trend of CO2 emission by year."
   ]
  },
  {
   "cell_type": "code",
   "execution_count": null,
   "id": "13ba1418-25c8-4aa9-a6fb-552f208c0228",
   "metadata": {},
   "outputs": [],
   "source": [
    "df.date_maj.value_counts()"
   ]
  },
  {
   "cell_type": "code",
   "execution_count": null,
   "id": "dcd7d05c-572a-466f-9971-f3e86c5f0b0a",
   "metadata": {},
   "outputs": [],
   "source": [
    "data_frame = df.groupby(['date_maj'])['co2'].mean().round(2)\n",
    "data_frame = data_frame.reset_index()\n",
    "data_frame.replace(\n",
    "    ['dÚc', 'déc', 'juin', 'mars', 'sept'],\n",
    "    ['December', 'December', 'June', 'March', 'September'], \n",
    "    regex=True, inplace=True)\n",
    "data_frame['datetime'] = pd.to_datetime(data_frame.date_maj, format='%B-%y')\n",
    "data_frame['year'] = data_frame.date_maj.apply(lambda x: x[-2:])\n",
    "data_frame = data_frame.sort_values(by='datetime')\n",
    "data_frame"
   ]
  },
  {
   "cell_type": "code",
   "execution_count": null,
   "id": "168038e2-8e40-45f1-b998-127bc9ba9967",
   "metadata": {},
   "outputs": [],
   "source": [
    "fig = px.bar(\n",
    "    data_frame=data_frame,\n",
    "    x='date_maj',\n",
    "    y='co2',\n",
    "    color='year',\n",
    "    title='AVERAGE OF CO2 EMISSION BY YEAR',\n",
    "    text_auto=True,\n",
    "    # barmode='group'\n",
    ")\n",
    "fig.update_layout(\n",
    "    height=600,\n",
    "    xaxis_title='DATE',\n",
    "    yaxis_title='AVG CO2 EMISSION (IN G/KM)'\n",
    ")\n",
    "\n",
    "fig.show()\n",
    "fig.write_image('imgs/5-AVERAGE OF CO2 EMISSION BY YEAR.svg', width=800, height=400)"
   ]
  },
  {
   "cell_type": "markdown",
   "id": "9c32cf95-0310-4543-81ec-de20d5c61a6f",
   "metadata": {},
   "source": [
    "> CO2 average emissions seems to be decreasing slowly each year. We must be careful because we did not yet remove electrical cars that grew more in the latest years, and could impact the average if it is computed in the calculation."
   ]
  },
  {
   "cell_type": "markdown",
   "id": "a44c4255-b5a7-458a-9130-ffca7a0a1c67",
   "metadata": {},
   "source": [
    "<div class=\"alert alert-block alert-success\">\n",
    "    <b>Feature engineering:</b> \n",
    "    <br>Create a column year from file name. This can be used to split the test / train data by year. We can train the dataset in older years and test it in the most recent data.\n",
    "</div>"
   ]
  },
  {
   "cell_type": "markdown",
   "id": "ef4bc212-8ef1-4abc-b21f-a4369220eff0",
   "metadata": {},
   "source": [
    "> ### `Carrosserie`"
   ]
  },
  {
   "cell_type": "code",
   "execution_count": null,
   "id": "2b2f41fc-4f69-437d-94c3-9e4757d5d6da",
   "metadata": {},
   "outputs": [],
   "source": [
    "df.Carrosserie.value_counts()"
   ]
  },
  {
   "cell_type": "code",
   "execution_count": null,
   "id": "b87ba663-5681-4bbc-82c8-924dca5d1bd3",
   "metadata": {},
   "outputs": [],
   "source": [
    "df.Carrosserie.unique()"
   ]
  },
  {
   "cell_type": "code",
   "execution_count": null,
   "id": "6a10f8bd-a160-49f8-bf4c-515e856cdc15",
   "metadata": {},
   "outputs": [],
   "source": [
    "print('LIST OF UNIQUE VALUES\\n--------')\n",
    "list_to_cols(sorted(df.Carrosserie.unique()[1:]), 3)"
   ]
  },
  {
   "cell_type": "code",
   "execution_count": null,
   "id": "428eefc4-04c2-42b0-b005-e483c272b8ba",
   "metadata": {
    "scrolled": true
   },
   "outputs": [],
   "source": [
    "data_frame = df.groupby(['Carrosserie','cod_cbr'])['co2'].mean().sort_values(ascending=True).round(1)\n",
    "data_frame = data_frame.reset_index()\n",
    "data_frame"
   ]
  },
  {
   "cell_type": "code",
   "execution_count": null,
   "id": "4b63201b-337c-4e2f-8fa9-d230aea5241b",
   "metadata": {},
   "outputs": [],
   "source": [
    "fig = px.bar(\n",
    "    data_frame=data_frame,\n",
    "    x='Carrosserie',\n",
    "    y='co2',\n",
    "    color='cod_cbr',\n",
    "    title='CO2 EMISSIONS VS CARROSSERIE',\n",
    "    barmode='group'\n",
    ")\n",
    "fig.update_layout(\n",
    "    height=800,\n",
    "    legend=dict(title='FUEL TYPE'),\n",
    "    xaxis_title='CARROSSERIE',\n",
    "    yaxis_title='CO2 EMISSION (IN G/KM)'\n",
    ")\n",
    "\n",
    "fig.show()\n",
    "fig.write_image('imgs/5-CO2 EMISSIONS VS CARROSSERIE.svg', width=1200, height=500)"
   ]
  },
  {
   "cell_type": "code",
   "execution_count": null,
   "id": "c0a095d9-5963-4272-abdf-3813f74c54c6",
   "metadata": {},
   "outputs": [],
   "source": [
    "fig = px.bar(\n",
    "    data_frame=data_frame,\n",
    "    x='Carrosserie',\n",
    "    y='co2',\n",
    "    color='Carrosserie',\n",
    "    title='CO2 EMISSIONS VS CARROSSERIE'\n",
    ")\n",
    "fig.update_layout(\n",
    "    height=800,\n",
    "    xaxis_title='CARROSSERIE',\n",
    "    yaxis_title='CO2 EMISSION (IN G/KM)',\n",
    "    showlegend=False\n",
    ")\n",
    "\n",
    "fig.show()\n",
    "fig.write_image('imgs/6-CO2 EMISSIONS VS CARROSSERIE_2.svg', width=1200, height=500)"
   ]
  },
  {
   "cell_type": "markdown",
   "id": "f8f3ea3c-cf25-4f3e-87a2-da0a1b35a1e8",
   "metadata": {},
   "source": [
    "> ### `gamme`"
   ]
  },
  {
   "cell_type": "code",
   "execution_count": null,
   "id": "292f8279-ba46-4764-86c9-541012879a00",
   "metadata": {},
   "outputs": [],
   "source": [
    "df.gamme.value_counts()"
   ]
  },
  {
   "cell_type": "code",
   "execution_count": null,
   "id": "6364cc07-de94-4127-b909-4592f78b0bd8",
   "metadata": {},
   "outputs": [],
   "source": [
    "df.gamme.unique()"
   ]
  },
  {
   "cell_type": "code",
   "execution_count": null,
   "id": "fb58b300-1bb4-4e56-ac04-4e7cf63f55a5",
   "metadata": {},
   "outputs": [],
   "source": [
    "print('LIST OF UNIQUE VALUES\\n--------')\n",
    "list_to_cols(sorted(df.gamme.unique()[1:]), 3)"
   ]
  },
  {
   "cell_type": "markdown",
   "id": "b6d54da2-cc0a-4a78-b7c3-58f03c546a39",
   "metadata": {},
   "source": [
    "> The following variables are to be merged: `MOY-INF`, `MOY-INFER` --> `MOY-INFERIEURE`"
   ]
  },
  {
   "cell_type": "code",
   "execution_count": null,
   "id": "d1a971bb-2820-4566-9133-b3b0c78b6fa4",
   "metadata": {},
   "outputs": [],
   "source": [
    "df.gamme = df.gamme.replace(\n",
    "    to_replace=[\"MOY-INF\", \"MOY-INFER\"],\n",
    "    value=     [\"MOY-INFERIEURE\", \"MOY-INFERIEURE\"]\n",
    ")"
   ]
  },
  {
   "cell_type": "code",
   "execution_count": null,
   "id": "6fbb718e-295b-4ef5-9c74-61a624914606",
   "metadata": {},
   "outputs": [],
   "source": [
    "df.info()"
   ]
  },
  {
   "cell_type": "code",
   "execution_count": null,
   "id": "95083878-a33a-462b-b676-2abf883b45d6",
   "metadata": {
    "scrolled": true
   },
   "outputs": [],
   "source": [
    "data_frame = df.groupby(['gamme','cod_cbr'])['co2'].mean().sort_values(ascending=True).round(1)\n",
    "data_frame = data_frame.reset_index()\n",
    "data_frame"
   ]
  },
  {
   "cell_type": "code",
   "execution_count": null,
   "id": "d5622fc1-270f-495d-a6ed-de3af4110e18",
   "metadata": {},
   "outputs": [],
   "source": [
    "fig = px.bar(\n",
    "    data_frame=data_frame,\n",
    "    x='gamme',\n",
    "    y='co2',\n",
    "    color='cod_cbr',\n",
    "    title='CO2 EMISSIONS VS GAMME',\n",
    "    barmode='group'\n",
    ")\n",
    "fig.update_layout(\n",
    "    height=800,\n",
    "    legend=dict(title='FUEL TYPE'),\n",
    "    xaxis_title='GAMME',\n",
    "    yaxis_title='CO2 EMISSION (IN G/KM)'\n",
    ")\n",
    "\n",
    "fig.show()\n",
    "fig.write_image('imgs/6-CO2 EMISSIONS VS GAMME.svg', width=1200, height=500)"
   ]
  },
  {
   "cell_type": "markdown",
   "id": "ee775f8f-e513-4c2b-9b27-9bc1ec69c5eb",
   "metadata": {},
   "source": [
    "# Quantitative Variables "
   ]
  },
  {
   "cell_type": "markdown",
   "id": "3c6ad1de-e0dc-40bc-bdba-97362c059739",
   "metadata": {},
   "source": [
    "> ### `puiss_admin_98`"
   ]
  },
  {
   "cell_type": "code",
   "execution_count": null,
   "id": "33c09758-e096-462d-bc0c-69f0a423de58",
   "metadata": {},
   "outputs": [],
   "source": [
    "df.puiss_admin_98.isna().sum()"
   ]
  },
  {
   "cell_type": "code",
   "execution_count": null,
   "id": "171f4839-f409-4ef2-8d0a-ef8f8d1fa70b",
   "metadata": {},
   "outputs": [],
   "source": [
    "df.puiss_admin_98 = df.puiss_admin_98.astype('float64')"
   ]
  },
  {
   "cell_type": "markdown",
   "id": "20385d2e-c3df-4b91-8fbc-7aa916715de5",
   "metadata": {},
   "source": [
    "> ### `puiss_max`"
   ]
  },
  {
   "cell_type": "code",
   "execution_count": null,
   "id": "750019af-21a3-4800-8029-8d1ffd7e23f8",
   "metadata": {},
   "outputs": [],
   "source": [
    "df.puiss_admin_98.isna().sum()"
   ]
  },
  {
   "cell_type": "code",
   "execution_count": null,
   "id": "553f4c01-e14c-4428-adf0-d488644397fb",
   "metadata": {},
   "outputs": [],
   "source": [
    "fig = px.scatter(\n",
    "    data_frame=df,\n",
    "    x='puiss_admin_98',\n",
    "    y='co2',\n",
    "    color='hybride',\n",
    "    # symbol='cod_cbr',\n",
    "    title='CO2 EMISSIONS VS ADMIN POWER'\n",
    ")\n",
    "fig.update_layout(\n",
    "    height=800,\n",
    "    legend=dict(title='HYBRID'),\n",
    "    xaxis_title='ADMIN POWER',\n",
    "    yaxis_title='CO2 EMISSION (G/KM)'\n",
    ")\n",
    "\n",
    "fig.show()\n",
    "# fig.write_image('imgs/10-CO2 EMISSIONS VS ADMIN POWER.svg', width=1200, height=600)"
   ]
  },
  {
   "cell_type": "markdown",
   "id": "4d04fceb-f2c9-4220-a6aa-1c2d30125edf",
   "metadata": {},
   "source": [
    "> ### `puiss_max`"
   ]
  },
  {
   "cell_type": "markdown",
   "id": "d8942019-f5e9-4d03-b0fb-26c9dc4f4a5f",
   "metadata": {},
   "source": [
    "> `puiss_max` will probably be used later as a categorical variable, by separating it in bins. Let’s check the influence of this variable on the CO2 emissions:"
   ]
  },
  {
   "cell_type": "code",
   "execution_count": null,
   "id": "ab8e540b-e928-4fc0-b48a-2d39abbda0b8",
   "metadata": {},
   "outputs": [],
   "source": [
    "df.puiss_max = df.puiss_max.replace(',', '.', regex=True).astype('float64')"
   ]
  },
  {
   "cell_type": "code",
   "execution_count": null,
   "id": "e5ac8758-2c2c-4124-b8af-bc87092ada28",
   "metadata": {
    "jupyter": {
     "source_hidden": true
    }
   },
   "outputs": [],
   "source": [
    "fig = px.scatter(\n",
    "    data_frame=df,\n",
    "    x='puiss_max',\n",
    "    y='co2',\n",
    "    color='hybride',\n",
    "    # symbol='cod_cbr',\n",
    "    title='CO2 EMISSIONS VS MAXIMUM POWER'\n",
    ")\n",
    "fig.update_layout(\n",
    "    height=800,\n",
    "    legend=dict(title='HYBRID'),\n",
    "    xaxis_title='MAXIMUM POWER (KW)',\n",
    "    yaxis_title='CO2 EMISSION (G/KM)'\n",
    ")\n",
    "\n",
    "fig.show()\n",
    "fig.write_image('imgs/4-O2 EMISSIONS VS MAXIMUM POWER.svg', width=1200, height=600)"
   ]
  },
  {
   "cell_type": "markdown",
   "id": "8b30c0df-8e66-47f3-a599-408317b6c49d",
   "metadata": {},
   "source": [
    "> ### `conso_urb`"
   ]
  },
  {
   "cell_type": "code",
   "execution_count": null,
   "id": "ffbcce6f-2b7e-4b2c-8bae-a3567fc92367",
   "metadata": {},
   "outputs": [],
   "source": [
    "df.conso_urb = df.conso_urb.replace(',', '.', regex=True).astype('float64')"
   ]
  },
  {
   "cell_type": "markdown",
   "id": "5f3e31f7-1133-49e9-b13c-9fe9b4987da8",
   "metadata": {},
   "source": [
    "> ### `conso_exurb`"
   ]
  },
  {
   "cell_type": "code",
   "execution_count": null,
   "id": "7570fc67-797d-43d1-8a5c-7dedfdcc4c42",
   "metadata": {},
   "outputs": [],
   "source": [
    "df.conso_exurb = df.conso_exurb.replace(',', '.', regex=True).astype('float64')"
   ]
  },
  {
   "cell_type": "markdown",
   "id": "2bf857e4-555d-4fb2-bb36-5571560192eb",
   "metadata": {},
   "source": [
    "> ### `conso_mixte`"
   ]
  },
  {
   "cell_type": "code",
   "execution_count": null,
   "id": "280e24c8-4a8f-4b87-9fa4-afaf67616987",
   "metadata": {},
   "outputs": [],
   "source": [
    "df.conso_mixte = df.conso_mixte.replace(',', '.', regex=True).astype('float64')"
   ]
  },
  {
   "cell_type": "markdown",
   "id": "ad77e14a-32ee-4b3a-bad4-ccb0dac416e4",
   "metadata": {},
   "source": [
    "> ### `co2` **[TARGET VARIABLE]**"
   ]
  },
  {
   "cell_type": "code",
   "execution_count": null,
   "id": "7492d57a-2b4a-4f11-ab64-f8d1445615e8",
   "metadata": {},
   "outputs": [],
   "source": [
    "df.co2.isna().sum()"
   ]
  },
  {
   "cell_type": "markdown",
   "id": "20db515c-a1d8-4c22-a241-ea9a52db7ed0",
   "metadata": {},
   "source": [
    "<div class=\"alert alert-block alert-success\">\n",
    "    <b>Feature engineering:</b> \n",
    "    <br>Split co2 emission in classes (ex.: low, high, average, high and very high) to use it in classification models. Ranges to be defined later.\n",
    "</div>"
   ]
  },
  {
   "cell_type": "markdown",
   "id": "23b99bce-0372-49f0-86fe-37182e7206a2",
   "metadata": {},
   "source": [
    "> ### `co_typ_1`"
   ]
  },
  {
   "cell_type": "code",
   "execution_count": null,
   "id": "25e86ba3-f7a8-4091-a3cf-071425c15c4b",
   "metadata": {},
   "outputs": [],
   "source": [
    "df.co_typ_1 = df.co_typ_1.replace(',', '.', regex=True).astype('float64')"
   ]
  },
  {
   "cell_type": "markdown",
   "id": "34351176-bd0c-475e-87ac-0cc093e566c5",
   "metadata": {},
   "source": [
    "> ### `hc`"
   ]
  },
  {
   "cell_type": "code",
   "execution_count": null,
   "id": "4f2ee4f2-06ec-4791-bfa5-d3839bb6fef6",
   "metadata": {},
   "outputs": [],
   "source": [
    "df.hc = df.hc.replace(',', '.', regex=True).astype('float64')"
   ]
  },
  {
   "cell_type": "markdown",
   "id": "883885f7-bac9-4d17-a2a0-1d3db2aa4f0c",
   "metadata": {},
   "source": [
    "> ### `nox`"
   ]
  },
  {
   "cell_type": "code",
   "execution_count": null,
   "id": "5ab7e890-d4f7-495e-a973-b8f82a6125fe",
   "metadata": {},
   "outputs": [],
   "source": [
    "df.nox = df.nox.replace(',', '.', regex=True).astype('float64')"
   ]
  },
  {
   "cell_type": "markdown",
   "id": "5559a427-109f-4567-859b-4d5845364a31",
   "metadata": {},
   "source": [
    "> ### `hcnox`"
   ]
  },
  {
   "cell_type": "code",
   "execution_count": null,
   "id": "f8acc155-816e-4c66-b93a-cc6c5e927d71",
   "metadata": {},
   "outputs": [],
   "source": [
    "df.hcnox = df.hcnox.replace(',', '.', regex=True).astype('float64')"
   ]
  },
  {
   "cell_type": "markdown",
   "id": "63809ae1-4368-452b-aed5-aebf3655f8b5",
   "metadata": {},
   "source": [
    "<div class=\"alert alert-block alert-success\">\n",
    "    <b>Feature engineering:</b> \n",
    "    <br>If we have 2 filled value out of 3 for the variables hc, nox and hcnox, replace the NaN value using the assumption that hc + nox = hcnox.\n",
    "</div>"
   ]
  },
  {
   "cell_type": "markdown",
   "id": "33736c18-f046-4080-b302-5fcd34740d52",
   "metadata": {},
   "source": [
    "> ### `ptcl`"
   ]
  },
  {
   "cell_type": "code",
   "execution_count": null,
   "id": "542aa36f-1841-49e9-aabf-6cab7f2daca8",
   "metadata": {},
   "outputs": [],
   "source": [
    "df.ptcl = df.ptcl.replace(',', '.', regex=True).astype('float64')"
   ]
  },
  {
   "cell_type": "markdown",
   "id": "828fd262-80c2-4ec4-8cb9-3eaea2d0c86a",
   "metadata": {},
   "source": [
    "> ### `masse_ordma_min`"
   ]
  },
  {
   "cell_type": "code",
   "execution_count": null,
   "id": "cc7c0f4f-00d6-4dad-88a5-75cf1a3c6f9d",
   "metadata": {},
   "outputs": [],
   "source": [
    "df.masse_ordma_min.isna().sum()"
   ]
  },
  {
   "cell_type": "code",
   "execution_count": null,
   "id": "bcc59bac-75f0-437b-bce1-a9dec105e4bc",
   "metadata": {},
   "outputs": [],
   "source": [
    "df.masse_ordma_min = df.masse_ordma_min.astype('float64')"
   ]
  },
  {
   "cell_type": "markdown",
   "id": "2b85435a-dba9-4352-80b5-0bfe3057c6af",
   "metadata": {},
   "source": [
    "> ### `masse_ordma_max`"
   ]
  },
  {
   "cell_type": "code",
   "execution_count": null,
   "id": "9d834355-0e99-42eb-a435-ddd8ea86edca",
   "metadata": {},
   "outputs": [],
   "source": [
    "df.masse_ordma_max.isna().sum()"
   ]
  },
  {
   "cell_type": "code",
   "execution_count": null,
   "id": "cbb175e0-9f1f-4d2c-b9a6-b067aa4f9c9e",
   "metadata": {},
   "outputs": [],
   "source": [
    "df.masse_ordma_max = df.masse_ordma_max.astype('float64')"
   ]
  },
  {
   "cell_type": "markdown",
   "id": "b6b85b95-e727-4b1e-b255-0a364a44e8e1",
   "metadata": {},
   "source": [
    "<div class=\"alert alert-block alert-warning\">\n",
    "    <b>Action:</b> \n",
    "    <br>Some cars have the same min and max mass order (around 47 000 cars) while it is different for the others. If the variable max mass is kept during the next phase, this problematic must be investigated.\n",
    "</div>"
   ]
  },
  {
   "cell_type": "markdown",
   "id": "7b0a49c6-8b71-4265-bac5-c74abca47e7b",
   "metadata": {},
   "source": [
    "## Correlations and Distribution"
   ]
  },
  {
   "cell_type": "code",
   "execution_count": null,
   "id": "79cfd0b9-e603-451b-a1ac-b3a12f9f9f88",
   "metadata": {},
   "outputs": [],
   "source": [
    "num_vars_list = [\n",
    "    'co2',\n",
    "    'puiss_admin_98',\n",
    "    'puiss_max',\n",
    "    'conso_urb',\n",
    "    'conso_exurb',\n",
    "    'conso_mixte',\n",
    "    'co_typ_1',\n",
    "    'hc',\n",
    "    'nox',\n",
    "    'hcnox',\n",
    "    'ptcl',\n",
    "    'masse_ordma_min',\n",
    "    'masse_ordma_max'\n",
    "]\n",
    "num_vars = df[num_vars_list]"
   ]
  },
  {
   "cell_type": "markdown",
   "id": "218a28c4-6012-4190-a7bf-bd9bc7234729",
   "metadata": {},
   "source": [
    "> Now that the variables are converted to numerical values"
   ]
  },
  {
   "cell_type": "code",
   "execution_count": null,
   "id": "70935621-6629-4385-9c70-933b69024ac1",
   "metadata": {},
   "outputs": [],
   "source": [
    "df[num_vars_list].info()"
   ]
  },
  {
   "cell_type": "code",
   "execution_count": null,
   "id": "7f30e10e-b388-4dc5-84e2-eef196ccdf33",
   "metadata": {},
   "outputs": [],
   "source": [
    "df[num_vars_list].describe().round(2)"
   ]
  },
  {
   "cell_type": "code",
   "execution_count": null,
   "id": "0a0dc0a2-df1d-4838-8af3-83947cd09681",
   "metadata": {},
   "outputs": [],
   "source": [
    "list_to_cols(num_vars_list, 4)"
   ]
  },
  {
   "cell_type": "code",
   "execution_count": null,
   "id": "18064431-e7bc-4c95-b4ae-4e916ea10df0",
   "metadata": {},
   "outputs": [],
   "source": [
    "fig = px.imshow(\n",
    "    num_vars.corr().round(3), \n",
    "    width=1400,\n",
    "    height=500,\n",
    "    text_auto=True,\n",
    "    aspect='auto',\n",
    "    title='CORRELATION MATRIX'\n",
    ")\n",
    "fig.show()\n",
    "\n",
    "fig.write_image('imgs/10-CORRELATION MATRIX.svg', width=1400, height=500)"
   ]
  },
  {
   "cell_type": "code",
   "execution_count": null,
   "id": "8754447c-cd1c-4edf-8f3f-7432d34a072e",
   "metadata": {},
   "outputs": [],
   "source": [
    "# fig = plt.figure(figsize=(20,4))\n",
    "# ax = fig.add_subplot(111)\n",
    "# sns.heatmap(\n",
    "#     num_vars.corr(),\n",
    "#     ax=ax,\n",
    "#     annot=True\n",
    "# )\n",
    "# ax.set_title('CORRELATION MATRIX')\n",
    "# plt.show()\n",
    "\n",
    "# plt.savefig('imgs/10-CORRELATION MATRIX.jpeg')"
   ]
  },
  {
   "cell_type": "code",
   "execution_count": null,
   "id": "c14098f6-16f9-41bd-8ed0-a3a14346233b",
   "metadata": {},
   "outputs": [],
   "source": [
    "df.info()"
   ]
  },
  {
   "cell_type": "code",
   "execution_count": null,
   "id": "77c97b23-3d8c-430c-8487-b50f42926e16",
   "metadata": {},
   "outputs": [],
   "source": [
    "df.isna().sum() / len(df) * 100"
   ]
  },
  {
   "cell_type": "code",
   "execution_count": null,
   "id": "a8a63c53-1c98-4d49-a9bf-9408450ac61d",
   "metadata": {},
   "outputs": [],
   "source": [
    "df.to_csv('data_2012_1015.csv', index=False)"
   ]
  },
  {
   "cell_type": "markdown",
   "id": "a257d8d4-90bf-4161-bbb1-5ee2edbbe507",
   "metadata": {},
   "source": [
    "### Boxplots"
   ]
  },
  {
   "cell_type": "code",
   "execution_count": null,
   "id": "7909508e-d556-4330-b34a-1fdb3493ab23",
   "metadata": {},
   "outputs": [],
   "source": [
    "data_frame = [df[x].dropna().tolist() for x in num_vars]"
   ]
  },
  {
   "cell_type": "code",
   "execution_count": null,
   "id": "1b72111c-5761-4ccd-badf-dc1eefc71754",
   "metadata": {},
   "outputs": [],
   "source": [
    "len(data_frame)"
   ]
  },
  {
   "cell_type": "code",
   "execution_count": null,
   "id": "522a8453-4368-4379-acfb-48920de57493",
   "metadata": {},
   "outputs": [],
   "source": [
    "len(num_vars)"
   ]
  },
  {
   "cell_type": "code",
   "execution_count": null,
   "id": "ab361c1f-1147-4a86-9178-a41bdc00c084",
   "metadata": {},
   "outputs": [],
   "source": [
    "fig = plt.figure(figsize=(16,12))\n",
    "\n",
    "# Co2 and puiss_max\n",
    "# ---\n",
    "ax1 = fig.add_subplot(221)\n",
    "ax1.boxplot(\n",
    "    [\n",
    "        data_frame[0], # co2\n",
    "        data_frame[2]  # puiss_max\n",
    "    ]\n",
    ")\n",
    "ax1.set_xticklabels(\n",
    "    labels=[\n",
    "        num_vars_list[0],\n",
    "        num_vars_list[2]\n",
    "    ]\n",
    ")\n",
    "\n",
    "# puiss_max_98\n",
    "# ---\n",
    "ax2 = fig.add_subplot(222)\n",
    "ax2.boxplot(\n",
    "    data_frame[1:2]\n",
    ")\n",
    "ax2.set_xticklabels(labels=num_vars_list[1:2])\n",
    "\n",
    "# Co2 and puiss_max\n",
    "# ---\n",
    "ax3 = fig.add_subplot(223)\n",
    "ax3.boxplot(\n",
    "    data_frame[6:11]\n",
    ")\n",
    "ax3.set_xticklabels(labels=num_vars_list[6:11])\n",
    "\n",
    "# Co2 and puiss_max\n",
    "# ---\n",
    "ax4 = fig.add_subplot(224)\n",
    "ax4.boxplot(\n",
    "    data_frame[11:]\n",
    ")\n",
    "ax4.set_xticklabels(labels=num_vars_list[11:])\n",
    "\n",
    "# ax2 = fig.add_subplot(131)\n",
    "# ax2.boxplot(\n",
    "#     data_frame\n",
    "# )\n",
    "# ax1.set_xticklabels(labels=num_vars_list, rotation=90)\n",
    "\n",
    "plt.show()"
   ]
  },
  {
   "cell_type": "markdown",
   "id": "6d07ef05-771c-490c-a204-eb23c817644a",
   "metadata": {},
   "source": [
    "# Additional Data Vizualisation"
   ]
  },
  {
   "cell_type": "markdown",
   "id": "44277dd9-0b20-461e-9334-5be2c7d823cb",
   "metadata": {},
   "source": [
    "## Categorical Variables"
   ]
  },
  {
   "cell_type": "markdown",
   "id": "b0caa6eb-5505-4208-ba67-8fce6e7bce12",
   "metadata": {},
   "source": [
    "### Catplots"
   ]
  },
  {
   "cell_type": "code",
   "execution_count": null,
   "id": "8d684676-9c4d-47f2-89de-661edd8d6119",
   "metadata": {},
   "outputs": [],
   "source": [
    "cat_vars = ['lib_mrq_utac', 'lib_mod_doss', 'lib_mod', 'dscom', 'cnit', 'tvv',\n",
    "       'cod_cbr', 'hybride', 'typ_boite_nb_rapp', 'champ_v9', 'date_maj', 'Carrosserie', 'gamme']"
   ]
  },
  {
   "cell_type": "code",
   "execution_count": null,
   "id": "76fb7949-efda-48da-8d03-9e2c07be9ecd",
   "metadata": {},
   "outputs": [],
   "source": [
    "df.columns"
   ]
  },
  {
   "cell_type": "code",
   "execution_count": null,
   "id": "5d320a90-994e-48e1-b4f5-3e0189b07659",
   "metadata": {},
   "outputs": [],
   "source": [
    "data_frame = df[['co2', 'hybride', 'cod_cbr', 'lib_mrq_utac', 'gamme', 'Carrosserie']].dropna()\n",
    "data_frame"
   ]
  },
  {
   "cell_type": "code",
   "execution_count": null,
   "id": "2efc460f-2b8d-41d7-8209-5858130db3b2",
   "metadata": {},
   "outputs": [],
   "source": [
    "data_frame.isna().sum()"
   ]
  },
  {
   "cell_type": "code",
   "execution_count": null,
   "id": "c2a3b060-bafd-441d-b9db-4cedddc4bdea",
   "metadata": {},
   "outputs": [],
   "source": [
    "sns.catplot(\n",
    "    data=data_frame,\n",
    "    x='cod_cbr', \n",
    "    y ='co2',\n",
    "    height=1.5,\n",
    "    aspect=7, \n",
    "    row='gamme',\n",
    "    hue='hybride'\n",
    ")\n",
    "\n",
    "plt.show()"
   ]
  },
  {
   "cell_type": "code",
   "execution_count": null,
   "id": "ddc5350b-2ab7-43a0-a8ab-d1678043aaf2",
   "metadata": {},
   "outputs": [],
   "source": [
    "sns.catplot(\n",
    "    data=data_frame,\n",
    "    x='cod_cbr', \n",
    "    y ='co2',\n",
    "    kind='violin',\n",
    "    hue='hybride',\n",
    "    height=5,\n",
    "    aspect=2, \n",
    ")\n",
    "\n",
    "plt.show()"
   ]
  },
  {
   "cell_type": "code",
   "execution_count": null,
   "id": "35298a6b-089c-4005-8077-9d334d8b40b0",
   "metadata": {},
   "outputs": [],
   "source": [
    "sns.catplot(\n",
    "    data=data_frame,\n",
    "    x='cod_cbr', \n",
    "    y ='co2',\n",
    "    kind='box',\n",
    "    hue='hybride',\n",
    "    height=6,\n",
    "    aspect=2.5, \n",
    ")\n",
    "\n",
    "plt.show()"
   ]
  },
  {
   "cell_type": "code",
   "execution_count": null,
   "id": "12f35532-9b2f-4dd6-80ce-f0f60beae8db",
   "metadata": {},
   "outputs": [],
   "source": [
    "sns.catplot(\n",
    "    data=data_frame,\n",
    "    x='gamme', \n",
    "    y ='co2',\n",
    "    kind='box',\n",
    "    hue='hybride',\n",
    "    height=6,\n",
    "    aspect=2.5, \n",
    ")\n",
    "\n",
    "plt.show()"
   ]
  },
  {
   "cell_type": "code",
   "execution_count": null,
   "id": "e798aa37-232c-44d1-9010-a761795864a1",
   "metadata": {},
   "outputs": [],
   "source": [
    "ax = sns.catplot(\n",
    "    data=data_frame,\n",
    "    x='Carrosserie', \n",
    "    y ='co2',\n",
    "    kind='violin',\n",
    "    hue='hybride',\n",
    "    height=6,\n",
    "    aspect=2.5, \n",
    ")\n",
    "ax.set_xticklabels(rotation=45)\n",
    "plt.show()"
   ]
  },
  {
   "cell_type": "markdown",
   "id": "9e4138d9-3ebd-4f9a-9cdb-8de059ce76b7",
   "metadata": {},
   "source": [
    "## Quantitative Variables"
   ]
  },
  {
   "cell_type": "code",
   "execution_count": null,
   "id": "ce6e69e1-dff6-41bd-a17e-412720df3f07",
   "metadata": {},
   "outputs": [],
   "source": [
    "df[num_vars_list].isna().sum()"
   ]
  },
  {
   "cell_type": "code",
   "execution_count": null,
   "id": "835821d5-748f-49f0-83be-958f94795b53",
   "metadata": {},
   "outputs": [],
   "source": [
    "len(num_vars_list)"
   ]
  },
  {
   "cell_type": "code",
   "execution_count": null,
   "id": "03ece0ef-6475-4ae3-af7d-cb8ffa15968f",
   "metadata": {},
   "outputs": [],
   "source": [
    "num_vars_list[:6]"
   ]
  },
  {
   "cell_type": "code",
   "execution_count": null,
   "id": "b471da57-1fa6-4627-867b-e2a591bc4592",
   "metadata": {},
   "outputs": [],
   "source": [
    "num_vars_list[6:]"
   ]
  },
  {
   "cell_type": "markdown",
   "id": "5898bb8a-6cbe-427a-9ef4-b27be6656d5a",
   "metadata": {},
   "source": [
    "### Pairplots"
   ]
  },
  {
   "cell_type": "code",
   "execution_count": null,
   "id": "7afc0fa7-75f6-40d0-a85a-e3f800155ec0",
   "metadata": {},
   "outputs": [],
   "source": [
    "df.hybride.isna().sum()"
   ]
  },
  {
   "cell_type": "code",
   "execution_count": null,
   "id": "768bd02d-506b-4035-92c3-bf905da0e7f2",
   "metadata": {},
   "outputs": [],
   "source": [
    "sns.pairplot(\n",
    "    data=df[num_vars_list[:6]+['hybride']],\n",
    "    dropna=True,\n",
    "    hue='hybride',\n",
    "    diag_kind='kde'\n",
    ")\n",
    "\n",
    "plt.show()"
   ]
  },
  {
   "cell_type": "code",
   "execution_count": null,
   "id": "7964c04f-9065-4675-a116-330151f60969",
   "metadata": {},
   "outputs": [],
   "source": [
    "sns.pairplot(\n",
    "    data=df[['co2'] + num_vars_list[6:]+['hybride']],\n",
    "    dropna=True,\n",
    "    hue='hybride',\n",
    "    diag_kind='kde'\n",
    ")\n",
    "\n",
    "plt.show()"
   ]
  },
  {
   "cell_type": "markdown",
   "id": "258a5a3a-30c1-4894-a9b4-61bf17a905e0",
   "metadata": {},
   "source": [
    "# Final consideration on duplicates"
   ]
  },
  {
   "cell_type": "code",
   "execution_count": null,
   "id": "0a26955f-fbe9-441a-9440-7b7c882e290a",
   "metadata": {},
   "outputs": [],
   "source": [
    "df.info()"
   ]
  },
  {
   "cell_type": "code",
   "execution_count": null,
   "id": "64f0a8af-a109-4dab-a6c3-d032a1bb2329",
   "metadata": {},
   "outputs": [],
   "source": [
    "df.columns"
   ]
  },
  {
   "cell_type": "markdown",
   "id": "18abb2e1-2947-4bf1-9713-ea36442d05b8",
   "metadata": {},
   "source": [
    "<div class=\"alert alert-block alert-danger\">\n",
    "<b>Important:</b> \n",
    "    <p>Cars can have same caracteristics with different years and registration number.\n",
    "    <br>To identify duplicated values we have to remove variables like cnit, date_maj etc from the dataset.</p>\n",
    "    After corrections, check for duplicated values without considering columns like: `date_maj`, `champ_v9`, etc. That can be different for the same car with same characteristics.\n",
    "Also, variables that has a lot of missing values like: `hcnox`, `ptcl`, `hc`, etc. must be removed from the comparison list. \n",
    "\n",
    "</div>"
   ]
  },
  {
   "cell_type": "code",
   "execution_count": null,
   "id": "6a1336f0-db67-43c5-bf3e-7ed4313bc919",
   "metadata": {},
   "outputs": [],
   "source": [
    "columns = ['tvv', 'cod_cbr', 'hybride', 'puiss_admin_98', 'puiss_max', 'typ_boite_nb_rapp',\n",
    "           'conso_urb', 'conso_exurb', 'conso_mixte', 'co2', 'co_typ_1',\n",
    "           'nox', 'masse_ordma_min', 'masse_ordma_max',\n",
    "           'Carrosserie', 'gamme']\n",
    "df[columns].duplicated().sum()"
   ]
  },
  {
   "cell_type": "code",
   "execution_count": null,
   "id": "628008a9-27b7-4769-be30-131d971a8e8f",
   "metadata": {},
   "outputs": [],
   "source": [
    "df.drop_duplicates(subset=columns).info()"
   ]
  },
  {
   "cell_type": "code",
   "execution_count": null,
   "id": "2c8eb0c0-d694-45e2-bb53-4f49e5ed21ed",
   "metadata": {},
   "outputs": [],
   "source": []
  }
 ],
 "metadata": {
  "kernelspec": {
   "display_name": "Python 3 (ipykernel)",
   "language": "python",
   "name": "python3"
  },
  "language_info": {
   "codemirror_mode": {
    "name": "ipython",
    "version": 3
   },
   "file_extension": ".py",
   "mimetype": "text/x-python",
   "name": "python",
   "nbconvert_exporter": "python",
   "pygments_lexer": "ipython3",
   "version": "3.11.5"
  }
 },
 "nbformat": 4,
 "nbformat_minor": 5
}
